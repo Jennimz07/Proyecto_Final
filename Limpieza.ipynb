{
 "cells": [
  {
   "cell_type": "code",
   "execution_count": null,
   "id": "18bf03f8",
   "metadata": {},
   "outputs": [
    {
     "name": "stdout",
     "output_type": "stream",
     "text": [
      "    AÑO  CÓDIGO_MUNICIPIO    MUNICIPIO  CÓDIGO_DEPARTAMENTO DEPARTAMENTO  \\\n",
      "0  2023              5001     Medellín                    5    Antioquia   \n",
      "1  2023              5002    Abejorral                    5    Antioquia   \n",
      "2  2023              5004     Abriaquí                    5    Antioquia   \n",
      "3  2023              5021   Alejandría                    5    Antioquia   \n",
      "4  2023              5030        Amagá                    5    Antioquia   \n",
      "5  2023              5031       Amalfi                    5    Antioquia   \n",
      "6  2023              5034        Andes                    5    Antioquia   \n",
      "7  2023              5036  Angelópolis                    5    Antioquia   \n",
      "8  2023              5038    Angostura                    5    Antioquia   \n",
      "9  2023              5040        Anorí                    5    Antioquia   \n",
      "\n",
      "   CÓDIGO_ETC              ETC POBLACIÓN_5_16  TASA_MATRICULACIÓN_5_16  \\\n",
      "0      3759.0         Medellín         377562                    96.15   \n",
      "1      3758.0  Antioquia (ETC)           3634                    74.38   \n",
      "2      3758.0  Antioquia (ETC)            503                    62.62   \n",
      "3      3758.0  Antioquia (ETC)            864                    81.37   \n",
      "4      3758.0  Antioquia (ETC)           5060                    78.30   \n",
      "5      3758.0  Antioquia (ETC)           5762                    70.95   \n",
      "6      3758.0  Antioquia (ETC)           7672                    80.90   \n",
      "7      3758.0  Antioquia (ETC)           1017                    81.32   \n",
      "8      3758.0  Antioquia (ETC)           2401                    69.26   \n",
      "9      3758.0  Antioquia (ETC)           4477                    71.72   \n",
      "\n",
      "   COBERTURA_NETA  ...  REPROBACIÓN  REPROBACIÓN_TRANSICIÓN  \\\n",
      "0           95.94  ...         9.23                    0.15   \n",
      "1           74.38  ...         7.77                    0.56   \n",
      "2           62.62  ...         6.55                    0.00   \n",
      "3           81.37  ...         7.88                    0.00   \n",
      "4           78.30  ...        10.71                    0.00   \n",
      "5           70.95  ...         9.96                    1.79   \n",
      "6           80.90  ...         7.89                    0.84   \n",
      "7           81.32  ...         7.42                    0.00   \n",
      "8           69.26  ...         3.40                    0.00   \n",
      "9           71.72  ...         3.72                    0.00   \n",
      "\n",
      "   REPROBACIÓN_PRIMARIA  REPROBACIÓN_SECUNDARIA  REPROBACIÓN_MEDIA  \\\n",
      "0                  6.21                   15.40               7.27   \n",
      "1                  7.26                   10.93               4.41   \n",
      "2                  1.96                   16.51               2.04   \n",
      "3                  7.02                   13.65               2.40   \n",
      "4                  9.63                   16.48               5.50   \n",
      "5                  9.68                   12.70               7.46   \n",
      "6                  6.91                   12.21               3.40   \n",
      "7                  2.43                   16.56               3.60   \n",
      "8                  5.26                    2.46               0.85   \n",
      "9                  3.86                    3.77               5.38   \n",
      "\n",
      "   REPITENCIA  REPITENCIA_TRANSICIÓN  REPITENCIA_PRIMARIA  \\\n",
      "0        9.25                   1.82                 8.34   \n",
      "1        9.07                   1.67                10.28   \n",
      "2        9.52                   0.00                10.46   \n",
      "3        7.20                   1.59                 7.69   \n",
      "4       12.08                   0.29                11.54   \n",
      "5       10.41                   2.39                14.87   \n",
      "6       11.81                   2.09                12.92   \n",
      "7       11.31                   1.54                10.51   \n",
      "8        6.97                   3.45                10.65   \n",
      "9        5.81                   2.33                 7.35   \n",
      "\n",
      "   REPITENCIA_SECUNDARIA  REPITENCIA_MEDIA  \n",
      "0                  13.69              4.48  \n",
      "1                  11.32              2.20  \n",
      "2                  13.76              2.04  \n",
      "3                  11.65              0.00  \n",
      "4                  18.48              3.98  \n",
      "5                   8.46              2.83  \n",
      "6                  14.98              4.40  \n",
      "7                  18.54              0.00  \n",
      "8                   4.57              1.71  \n",
      "9                   5.69              2.20  \n",
      "\n",
      "[10 rows x 41 columns]\n"
     ]
    }
   ],
   "source": [
    "import pandas as pd\n",
    "\n",
    "#Leer archivo CSV\n",
    "df = pd.read_csv(\"dataset.csv\")\n",
    "\n",
    "#Mostrar los 10 primeros registros\n",
    "print(df.head(10))"
   ]
  },
  {
   "cell_type": "code",
   "execution_count": 3,
   "id": "5ab0eecc",
   "metadata": {},
   "outputs": [
    {
     "name": "stdout",
     "output_type": "stream",
     "text": [
      "['AÑO', 'CÓDIGO_MUNICIPIO', 'MUNICIPIO', 'CÓDIGO_DEPARTAMENTO', 'DEPARTAMENTO', 'CÓDIGO_ETC', 'ETC', 'POBLACIÓN_5_16', 'TASA_MATRICULACIÓN_5_16', 'COBERTURA_NETA', 'COBERTURA_NETA_TRANSICIÓN', 'COBERTURA_NETA_PRIMARIA', 'COBERTURA_NETA_SECUNDARIA', 'COBERTURA_NETA_MEDIA', 'COBERTURA_BRUTA', 'COBERTURA_BRUTA_TRANSICIÓN', 'COBERTURA_BRUTA_PRIMARIA', 'COBERTURA_BRUTA_SECUNDARIA', 'COBERTURA_BRUTA_MEDIA', 'TAMAÑO_PROMEDIO_DE_GRUPO', 'SEDES_CONECTADAS_A_INTERNET', 'DESERCIÓN', 'DESERCIÓN_TRANSICIÓN', 'DESERCIÓN_PRIMARIA', 'DESERCIÓN_SECUNDARIA', 'DESERCIÓN_MEDIA', 'APROBACIÓN', 'APROBACIÓN_TRANSICIÓN', 'APROBACIÓN_PRIMARIA', 'APROBACIÓN_SECUNDARIA', 'APROBACIÓN_MEDIA', 'REPROBACIÓN', 'REPROBACIÓN_TRANSICIÓN', 'REPROBACIÓN_PRIMARIA', 'REPROBACIÓN_SECUNDARIA', 'REPROBACIÓN_MEDIA', 'REPITENCIA', 'REPITENCIA_TRANSICIÓN', 'REPITENCIA_PRIMARIA', 'REPITENCIA_SECUNDARIA', 'REPITENCIA_MEDIA']\n"
     ]
    }
   ],
   "source": [
    "#Nombres de columnas\n",
    "print(df.columns.tolist())"
   ]
  },
  {
   "cell_type": "code",
   "execution_count": null,
   "id": "649acf32",
   "metadata": {},
   "outputs": [],
   "source": [
    "#Eliminar espacios en blanco en los nombres de columnas\n",
    "df.columns = df.columns.str.strip()"
   ]
  },
  {
   "cell_type": "code",
   "execution_count": 5,
   "id": "e5447cb4",
   "metadata": {},
   "outputs": [
    {
     "data": {
      "text/plain": [
       "AÑO                               0\n",
       "CÓDIGO_MUNICIPIO                  0\n",
       "MUNICIPIO                         0\n",
       "CÓDIGO_DEPARTAMENTO               0\n",
       "DEPARTAMENTO                      0\n",
       "CÓDIGO_ETC                        0\n",
       "ETC                               0\n",
       "POBLACIÓN_5_16                    6\n",
       "TASA_MATRICULACIÓN_5_16         115\n",
       "COBERTURA_NETA                  111\n",
       "COBERTURA_NETA_TRANSICIÓN        52\n",
       "COBERTURA_NETA_PRIMARIA          91\n",
       "COBERTURA_NETA_SECUNDARIA        94\n",
       "COBERTURA_NETA_MEDIA             93\n",
       "COBERTURA_BRUTA                  68\n",
       "COBERTURA_BRUTA_TRANSICIÓN       97\n",
       "COBERTURA_BRUTA_PRIMARIA         81\n",
       "COBERTURA_BRUTA_SECUNDARIA       88\n",
       "COBERTURA_BRUTA_MEDIA           127\n",
       "TAMAÑO_PROMEDIO_DE_GRUPO       7013\n",
       "SEDES_CONECTADAS_A_INTERNET    6817\n",
       "DESERCIÓN                       142\n",
       "DESERCIÓN_TRANSICIÓN            903\n",
       "DESERCIÓN_PRIMARIA              242\n",
       "DESERCIÓN_SECUNDARIA            270\n",
       "DESERCIÓN_MEDIA                 734\n",
       "APROBACIÓN                       25\n",
       "APROBACIÓN_TRANSICIÓN            93\n",
       "APROBACIÓN_PRIMARIA              25\n",
       "APROBACIÓN_SECUNDARIA            54\n",
       "APROBACIÓN_MEDIA                101\n",
       "REPROBACIÓN                      86\n",
       "REPROBACIÓN_TRANSICIÓN           93\n",
       "REPROBACIÓN_PRIMARIA             97\n",
       "REPROBACIÓN_SECUNDARIA          106\n",
       "REPROBACIÓN_MEDIA               145\n",
       "REPITENCIA                      143\n",
       "REPITENCIA_TRANSICIÓN           159\n",
       "REPITENCIA_PRIMARIA             148\n",
       "REPITENCIA_SECUNDARIA           152\n",
       "REPITENCIA_MEDIA                139\n",
       "dtype: int64"
      ]
     },
     "execution_count": 5,
     "metadata": {},
     "output_type": "execute_result"
    }
   ],
   "source": [
    "#Cuántos nulos hay\n",
    "df.isnull().sum()"
   ]
  },
  {
   "cell_type": "code",
   "execution_count": 6,
   "id": "24473628",
   "metadata": {},
   "outputs": [],
   "source": [
    "#Eliminar columnas tamaño promedio grupo y sedes conectadas a internet\n",
    "df.drop(columns=['TAMAÑO_PROMEDIO_DE_GRUPO', 'SEDES_CONECTADAS_A_INTERNET'], inplace=True)"
   ]
  },
  {
   "cell_type": "code",
   "execution_count": 7,
   "id": "9461fb88",
   "metadata": {},
   "outputs": [
    {
     "name": "stdout",
     "output_type": "stream",
     "text": [
      "['AÑO', 'CÓDIGO_MUNICIPIO', 'MUNICIPIO', 'CÓDIGO_DEPARTAMENTO', 'DEPARTAMENTO', 'CÓDIGO_ETC', 'ETC', 'POBLACIÓN_5_16', 'TASA_MATRICULACIÓN_5_16', 'COBERTURA_NETA', 'COBERTURA_NETA_TRANSICIÓN', 'COBERTURA_NETA_PRIMARIA', 'COBERTURA_NETA_SECUNDARIA', 'COBERTURA_NETA_MEDIA', 'COBERTURA_BRUTA', 'COBERTURA_BRUTA_TRANSICIÓN', 'COBERTURA_BRUTA_PRIMARIA', 'COBERTURA_BRUTA_SECUNDARIA', 'COBERTURA_BRUTA_MEDIA', 'DESERCIÓN', 'DESERCIÓN_TRANSICIÓN', 'DESERCIÓN_PRIMARIA', 'DESERCIÓN_SECUNDARIA', 'DESERCIÓN_MEDIA', 'APROBACIÓN', 'APROBACIÓN_TRANSICIÓN', 'APROBACIÓN_PRIMARIA', 'APROBACIÓN_SECUNDARIA', 'APROBACIÓN_MEDIA', 'REPROBACIÓN', 'REPROBACIÓN_TRANSICIÓN', 'REPROBACIÓN_PRIMARIA', 'REPROBACIÓN_SECUNDARIA', 'REPROBACIÓN_MEDIA', 'REPITENCIA', 'REPITENCIA_TRANSICIÓN', 'REPITENCIA_PRIMARIA', 'REPITENCIA_SECUNDARIA', 'REPITENCIA_MEDIA']\n"
     ]
    }
   ],
   "source": [
    "print(df.columns.tolist())"
   ]
  },
  {
   "cell_type": "code",
   "execution_count": 8,
   "id": "1df54a02",
   "metadata": {},
   "outputs": [],
   "source": [
    "#Eliminar filas completamente vacias\n",
    "df.dropna(how='all', inplace=True)"
   ]
  },
  {
   "cell_type": "code",
   "execution_count": 9,
   "id": "68669349",
   "metadata": {},
   "outputs": [],
   "source": [
    "#Rellenar valores nulos con la mediana de cada columna\n",
    "df=df.fillna(df.select_dtypes(include='number').median())"
   ]
  },
  {
   "cell_type": "code",
   "execution_count": 10,
   "id": "449b2ab5",
   "metadata": {},
   "outputs": [
    {
     "name": "stdout",
     "output_type": "stream",
     "text": [
      "AÑO                           0\n",
      "CÓDIGO_MUNICIPIO              0\n",
      "MUNICIPIO                     0\n",
      "CÓDIGO_DEPARTAMENTO           0\n",
      "DEPARTAMENTO                  0\n",
      "CÓDIGO_ETC                    0\n",
      "ETC                           0\n",
      "POBLACIÓN_5_16                6\n",
      "TASA_MATRICULACIÓN_5_16       0\n",
      "COBERTURA_NETA                0\n",
      "COBERTURA_NETA_TRANSICIÓN     0\n",
      "COBERTURA_NETA_PRIMARIA       0\n",
      "COBERTURA_NETA_SECUNDARIA     0\n",
      "COBERTURA_NETA_MEDIA          0\n",
      "COBERTURA_BRUTA               0\n",
      "COBERTURA_BRUTA_TRANSICIÓN    0\n",
      "COBERTURA_BRUTA_PRIMARIA      0\n",
      "COBERTURA_BRUTA_SECUNDARIA    0\n",
      "COBERTURA_BRUTA_MEDIA         0\n",
      "DESERCIÓN                     0\n",
      "DESERCIÓN_TRANSICIÓN          0\n",
      "DESERCIÓN_PRIMARIA            0\n",
      "DESERCIÓN_SECUNDARIA          0\n",
      "DESERCIÓN_MEDIA               0\n",
      "APROBACIÓN                    0\n",
      "APROBACIÓN_TRANSICIÓN         0\n",
      "APROBACIÓN_PRIMARIA           0\n",
      "APROBACIÓN_SECUNDARIA         0\n",
      "APROBACIÓN_MEDIA              0\n",
      "REPROBACIÓN                   0\n",
      "REPROBACIÓN_TRANSICIÓN        0\n",
      "REPROBACIÓN_PRIMARIA          0\n",
      "REPROBACIÓN_SECUNDARIA        0\n",
      "REPROBACIÓN_MEDIA             0\n",
      "REPITENCIA                    0\n",
      "REPITENCIA_TRANSICIÓN         0\n",
      "REPITENCIA_PRIMARIA           0\n",
      "REPITENCIA_SECUNDARIA         0\n",
      "REPITENCIA_MEDIA              0\n",
      "dtype: int64\n"
     ]
    }
   ],
   "source": [
    "#Ver cuántos nulos hay por columna\n",
    "print(df.isnull().sum())"
   ]
  },
  {
   "cell_type": "code",
   "execution_count": null,
   "id": "6504e0f9",
   "metadata": {},
   "outputs": [
    {
     "name": "stdout",
     "output_type": "stream",
     "text": [
      "0    377562\n",
      "1      3634\n",
      "2       503\n",
      "3       864\n",
      "4      5060\n",
      "Name: POBLACIÓN_5_16, dtype: object\n",
      "float64\n",
      "count    1.457900e+04\n",
      "mean     1.026310e+04\n",
      "std      1.439215e+05\n",
      "min      1.000000e+00\n",
      "25%      1.165000e+03\n",
      "50%      2.641000e+03\n",
      "75%      5.869500e+03\n",
      "max      9.548263e+06\n",
      "Name: POBLACIÓN_5_16, dtype: float64\n"
     ]
    }
   ],
   "source": [
    "# Ver primeros valores antes de limpiar la columna Población\n",
    "print(df['POBLACIÓN_5_16'].head())\n",
    "\n",
    "# Eliminar comas, espacios y convertir a número\n",
    "df['POBLACIÓN_5_16'] = df['POBLACIÓN_5_16'].astype(str).str.replace(',', '').str.strip()\n",
    "df['POBLACIÓN_5_16'] = pd.to_numeric(df['POBLACIÓN_5_16'], errors='coerce')\n",
    "\n",
    "# Verificar conversión\n",
    "print(df['POBLACIÓN_5_16'].dtype)\n",
    "print(df['POBLACIÓN_5_16'].describe())"
   ]
  },
  {
   "cell_type": "code",
   "execution_count": null,
   "id": "6b143ab8",
   "metadata": {},
   "outputs": [
    {
     "name": "stdout",
     "output_type": "stream",
     "text": [
      "Int64\n",
      "0    377562\n",
      "1      3634\n",
      "2       503\n",
      "3       864\n",
      "4      5060\n",
      "Name: POBLACIÓN_5_16, dtype: Int64\n"
     ]
    }
   ],
   "source": [
    "# Redondear primero (por si quedó algún decimal suelto al convertir desde texto)\n",
    "df['POBLACIÓN_5_16'] = df['POBLACIÓN_5_16'].round()\n",
    "\n",
    "# Convertir a enteros\n",
    "df['POBLACIÓN_5_16'] = df['POBLACIÓN_5_16'].astype('Int64')\n",
    "\n",
    "# Verificar que ya esté como entero\n",
    "print(df['POBLACIÓN_5_16'].dtype)\n",
    "print(df['POBLACIÓN_5_16'].head())"
   ]
  },
  {
   "cell_type": "code",
   "execution_count": 13,
   "id": "85fa6d0f",
   "metadata": {},
   "outputs": [],
   "source": [
    "#Eliminar los 6 faltantes de población\n",
    "df = df.dropna(subset=['POBLACIÓN_5_16'])"
   ]
  },
  {
   "cell_type": "code",
   "execution_count": null,
   "id": "fab8a8dd",
   "metadata": {},
   "outputs": [
    {
     "name": "stdout",
     "output_type": "stream",
     "text": [
      "AÑO                           0\n",
      "CÓDIGO_MUNICIPIO              0\n",
      "MUNICIPIO                     0\n",
      "CÓDIGO_DEPARTAMENTO           0\n",
      "DEPARTAMENTO                  0\n",
      "CÓDIGO_ETC                    0\n",
      "ETC                           0\n",
      "POBLACIÓN_5_16                0\n",
      "TASA_MATRICULACIÓN_5_16       0\n",
      "COBERTURA_NETA                0\n",
      "COBERTURA_NETA_TRANSICIÓN     0\n",
      "COBERTURA_NETA_PRIMARIA       0\n",
      "COBERTURA_NETA_SECUNDARIA     0\n",
      "COBERTURA_NETA_MEDIA          0\n",
      "COBERTURA_BRUTA               0\n",
      "COBERTURA_BRUTA_TRANSICIÓN    0\n",
      "COBERTURA_BRUTA_PRIMARIA      0\n",
      "COBERTURA_BRUTA_SECUNDARIA    0\n",
      "COBERTURA_BRUTA_MEDIA         0\n",
      "DESERCIÓN                     0\n",
      "DESERCIÓN_TRANSICIÓN          0\n",
      "DESERCIÓN_PRIMARIA            0\n",
      "DESERCIÓN_SECUNDARIA          0\n",
      "DESERCIÓN_MEDIA               0\n",
      "APROBACIÓN                    0\n",
      "APROBACIÓN_TRANSICIÓN         0\n",
      "APROBACIÓN_PRIMARIA           0\n",
      "APROBACIÓN_SECUNDARIA         0\n",
      "APROBACIÓN_MEDIA              0\n",
      "REPROBACIÓN                   0\n",
      "REPROBACIÓN_TRANSICIÓN        0\n",
      "REPROBACIÓN_PRIMARIA          0\n",
      "REPROBACIÓN_SECUNDARIA        0\n",
      "REPROBACIÓN_MEDIA             0\n",
      "REPITENCIA                    0\n",
      "REPITENCIA_TRANSICIÓN         0\n",
      "REPITENCIA_PRIMARIA           0\n",
      "REPITENCIA_SECUNDARIA         0\n",
      "REPITENCIA_MEDIA              0\n",
      "dtype: int64\n"
     ]
    }
   ],
   "source": [
    "#Mostrar Nulos\n",
    "print(df.isnull().sum())"
   ]
  },
  {
   "cell_type": "code",
   "execution_count": 15,
   "id": "73ee1e9b",
   "metadata": {},
   "outputs": [],
   "source": [
    "#Eliminar duplicados\n",
    "df.drop_duplicates(inplace=True)"
   ]
  },
  {
   "cell_type": "code",
   "execution_count": 16,
   "id": "a0e69377",
   "metadata": {},
   "outputs": [
    {
     "name": "stdout",
     "output_type": "stream",
     "text": [
      "                 AÑO  CÓDIGO_MUNICIPIO   MUNICIPIO  CÓDIGO_DEPARTAMENTO  \\\n",
      "count   14579.000000      14579.000000       14579         14579.000000   \n",
      "unique           NaN               NaN        1037                  NaN   \n",
      "top              NaN               NaN  Buenavista                  NaN   \n",
      "freq             NaN               NaN          52                  NaN   \n",
      "mean     2017.001646      38700.661431         NaN            38.267028   \n",
      "std         3.740484      26557.182909         NaN            26.570500   \n",
      "min      2011.000000          0.000000         NaN             0.000000   \n",
      "25%      2014.000000      15676.000000         NaN            15.000000   \n",
      "50%      2017.000000      25839.000000         NaN            25.000000   \n",
      "75%      2020.000000      66572.000000         NaN            66.000000   \n",
      "max      2023.000000      99773.000000         NaN            99.000000   \n",
      "\n",
      "       DEPARTAMENTO    CÓDIGO_ETC           ETC  POBLACIÓN_5_16  \\\n",
      "count         14579  14579.000000         14579         14579.0   \n",
      "unique           36           NaN           100            <NA>   \n",
      "top       Antioquia           NaN  Boyacá (ETC)            <NA>   \n",
      "freq           1625           NaN          1560            <NA>   \n",
      "mean            NaN   3540.906505           NaN    10263.097332   \n",
      "std             NaN   1126.851786           NaN   143921.509601   \n",
      "min             NaN      0.000000           NaN             1.0   \n",
      "25%             NaN   3769.000000           NaN          1165.0   \n",
      "50%             NaN   3785.000000           NaN          2641.0   \n",
      "75%             NaN   3805.000000           NaN          5869.5   \n",
      "max             NaN  10930.000000           NaN       9548263.0   \n",
      "\n",
      "        TASA_MATRICULACIÓN_5_16  COBERTURA_NETA  ...   REPROBACIÓN  \\\n",
      "count              14579.000000    14579.000000  ...  14579.000000   \n",
      "unique                      NaN             NaN  ...           NaN   \n",
      "top                         NaN             NaN  ...           NaN   \n",
      "freq                        NaN             NaN  ...           NaN   \n",
      "mean                  84.974606       85.559294  ...      4.756003   \n",
      "std                   18.519512       16.871414  ...      3.988571   \n",
      "min                    0.000000        0.000000  ...      0.000000   \n",
      "25%                   74.935000       76.940000  ...      0.940000   \n",
      "50%                   85.330000       86.400000  ...      4.520000   \n",
      "75%                   95.310000       94.480000  ...      7.400000   \n",
      "max                  279.030000      264.540000  ...     49.390000   \n",
      "\n",
      "        REPROBACIÓN_TRANSICIÓN  REPROBACIÓN_PRIMARIA  REPROBACIÓN_SECUNDARIA  \\\n",
      "count             14579.000000          14579.000000            14579.000000   \n",
      "unique                     NaN                   NaN                     NaN   \n",
      "top                        NaN                   NaN                     NaN   \n",
      "freq                       NaN                   NaN                     NaN   \n",
      "mean                  0.483905              3.881308                6.804554   \n",
      "std                   1.648783              3.790822                6.132552   \n",
      "min                   0.000000              0.000000                0.000000   \n",
      "25%                   0.000000              0.430000                0.760000   \n",
      "50%                   0.000000              3.330000                6.160000   \n",
      "75%                   0.210000              5.980000               10.790000   \n",
      "max                  52.710000             51.970000               76.970000   \n",
      "\n",
      "        REPROBACIÓN_MEDIA    REPITENCIA  REPITENCIA_TRANSICIÓN  \\\n",
      "count        14579.000000  14579.000000           14579.000000   \n",
      "unique                NaN           NaN                    NaN   \n",
      "top                   NaN           NaN                    NaN   \n",
      "freq                  NaN           NaN                    NaN   \n",
      "mean             4.120984      3.288772               0.933329   \n",
      "std              4.192835      3.355699               2.404340   \n",
      "min              0.000000      0.000000               0.000000   \n",
      "25%              0.680000      0.730000               0.000000   \n",
      "50%              3.100000      2.160000               0.000000   \n",
      "75%              6.360000      5.050000               0.920000   \n",
      "max             67.860000     37.470000              50.000000   \n",
      "\n",
      "        REPITENCIA_PRIMARIA  REPITENCIA_SECUNDARIA  REPITENCIA_MEDIA  \n",
      "count          14579.000000           14579.000000      14579.000000  \n",
      "unique                  NaN                    NaN               NaN  \n",
      "top                     NaN                    NaN               NaN  \n",
      "freq                    NaN                    NaN               NaN  \n",
      "mean               3.156944               4.310600          1.690338  \n",
      "std                3.628527               4.528659          2.275040  \n",
      "min                0.000000               0.000000          0.000000  \n",
      "25%                0.600000               0.740000          0.000000  \n",
      "50%                1.880000               2.740000          0.870000  \n",
      "75%                4.555000               6.770000          2.530000  \n",
      "max               50.760000              55.070000         36.450000  \n",
      "\n",
      "[11 rows x 39 columns]\n"
     ]
    }
   ],
   "source": [
    "#Resumen estadistico\n",
    "print(df.describe(include='all'))"
   ]
  },
  {
   "cell_type": "code",
   "execution_count": 17,
   "id": "a42bd9f8",
   "metadata": {},
   "outputs": [],
   "source": [
    "#Datos Limpios\n",
    "df.to_csv('Datos_Cleaned.csv', index=True)"
   ]
  }
 ],
 "metadata": {
  "kernelspec": {
   "display_name": "Python 3",
   "language": "python",
   "name": "python3"
  },
  "language_info": {
   "codemirror_mode": {
    "name": "ipython",
    "version": 3
   },
   "file_extension": ".py",
   "mimetype": "text/x-python",
   "name": "python",
   "nbconvert_exporter": "python",
   "pygments_lexer": "ipython3",
   "version": "3.11.9"
  }
 },
 "nbformat": 4,
 "nbformat_minor": 5
}
